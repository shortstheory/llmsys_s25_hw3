{
 "cells": [
  {
   "cell_type": "code",
   "execution_count": 1,
   "id": "28ae17c9",
   "metadata": {},
   "outputs": [],
   "source": [
    "# %%\n",
    "import minitorch\n",
    "from minitorch.cuda_kernel_ops import CudaKernelOps\n",
    "backend = minitorch.TensorBackend(CudaKernelOps)\n",
    "import time\n",
    "import numpy as np"
   ]
  },
  {
   "cell_type": "code",
   "execution_count": null,
   "id": "8fbb2ac4",
   "metadata": {},
   "outputs": [],
   "source": [
    "# %%\n",
    "rows = 10\n",
    "seq_len = 8\n",
    "\n",
    "def rand(shape):\n",
    "    return np.random.rand(*shape)\n",
    "\n",
    "inp = rand((rows, seq_len))\n",
    "gamma = rand((rows,1))\n",
    "beta = rand((rows,1))\n",
    "\n",
    "\n",
    "def custom():\n",
    "    inp_mt = minitorch.tensor_from_numpy(inp, backend=backend, requires_grad=True)\n",
    "    gamma_mt = minitorch.tensor_from_numpy(gamma, backend=backend, requires_grad=True)\n",
    "    beta_mt = minitorch.tensor_from_numpy(beta, backend=backend, requires_grad=True)\n",
    "    print(inp_mt)\n",
    "    print(gamma_mt)\n",
    "    print(beta_mt)\n",
    "\n",
    "    layernorm_fw = inp_mt.layernorm(gamma_mt, beta_mt)\n",
    "\n",
    "    return layernorm_fw\n",
    "\n",
    "def baseline():\n",
    "    inp_mt = minitorch.tensor_from_numpy(inp, backend=backend, requires_grad=True)\n",
    "    gamma_mt = minitorch.tensor_from_numpy(gamma, backend=backend, requires_grad=True)\n",
    "    beta_mt = minitorch.tensor_from_numpy(beta, backend=backend, requires_grad=True)\n",
    "    print(inp_mt)\n",
    "    print(gamma_mt)\n",
    "    print(beta_mt)\n",
    "    x = inp_mt.contiguous()\n",
    "    batch, dim = x.shape\n",
    "    epsilon = 1e-8\n",
    "    mean = x.mean(dim=1).view(batch, 1)\n",
    "    variance = x.var(dim=1).view(batch, 1)\n",
    "    x = (x - mean) / ((variance + epsilon) ** 0.5)\n",
    "    x = gamma_mt * x + beta_mt\n",
    "    return x\n",
    "\n",
    "\n",
    "#     return res\n",
    "\n",
    "\n",
    "# %%\n",
    "\n",
    "\n",
    "# %%\n",
    "c = custom()\n",
    "b = baseline()\n",
    "# print(c-b)\n"
   ]
  },
  {
   "cell_type": "code",
   "execution_count": 3,
   "id": "1dbf1142",
   "metadata": {},
   "outputs": [
    {
     "name": "stdout",
     "output_type": "stream",
     "text": [
      "\n",
      "[\n",
      "\t[0.149689 0.330894 1.022947 0.181468 -0.587917 -0.019364 0.853537 0.882797]\n",
      "\t[-0.260606 1.451103 0.814493 0.047734 -0.501389 0.844216 1.271511 0.730166]\n",
      "\t[0.120222 1.473006 0.053021 0.250047 -0.930644 0.923499 0.992289 0.815995]\n",
      "\t[-0.481499 0.483818 0.398064 0.044647 0.514912 1.550071 1.123035 0.800728]\n",
      "\t[1.595873 1.142452 0.780314 0.033649 0.247050 -0.516466 0.713838 0.835695]\n",
      "\t[0.257714 1.367296 0.534600 0.120750 0.596219 0.435700 1.309213 0.631468]\n",
      "\t[1.291501 1.199007 0.246587 0.018405 -0.843099 1.199433 1.001772 0.810440]\n",
      "\t[0.085004 0.260247 1.193184 0.288990 -0.001125 -0.439914 0.937593 0.761995]\n",
      "\t[1.665383 0.694019 0.994823 0.001978 -0.360073 0.789454 0.926567 0.714973]\n",
      "\t[0.217515 1.133113 0.258430 0.121563 1.529299 1.284537 0.730514 0.707154]]\n"
     ]
    }
   ],
   "source": [
    "print(c)"
   ]
  },
  {
   "cell_type": "code",
   "execution_count": 5,
   "id": "0382d04f",
   "metadata": {},
   "outputs": [
    {
     "name": "stdout",
     "output_type": "stream",
     "text": [
      "\n",
      "[\n",
      "\t[0.149689 0.160711 1.670105 0.805403 -0.219824 0.224458 0.276850 1.931876]\n",
      "\t[-0.082104 1.451103 1.384476 0.026871 0.041050 1.329359 1.762092 0.374565]\n",
      "\t[0.279539 0.857812 0.053021 0.843051 -0.044772 0.829570 0.568650 0.786038]\n",
      "\t[0.001226 0.113023 0.120112 0.044647 0.189345 0.343140 0.228800 0.209210]\n",
      "\t[1.263645 0.644392 0.823502 -0.618689 0.247050 -0.695343 -0.539468 1.062919]\n",
      "\t[0.010715 0.879219 0.367304 0.113974 0.629042 0.435700 1.353115 -1.046527]\n",
      "\t[1.169113 1.092853 0.783456 0.655824 0.621233 1.256365 1.001772 1.113702]\n",
      "\t[0.719535 0.719857 0.891031 0.851082 0.743456 0.690759 0.760385 0.761995]\n",
      "\t[1.479177 0.758462 1.444920 0.118415 0.423249 1.131827 0.746076 0.442175]\n",
      "\t[0.332627 0.644076 0.274841 0.398133 1.002850 0.925047 0.195131 0.221156]]\n"
     ]
    }
   ],
   "source": [
    "print(b)"
   ]
  },
  {
   "cell_type": "code",
   "execution_count": 5,
   "id": "c93fa9d7",
   "metadata": {},
   "outputs": [
    {
     "ename": "NameError",
     "evalue": "name 'out_grad' is not defined",
     "output_type": "error",
     "traceback": [
      "\u001b[0;31m---------------------------------------------------------------------------\u001b[0m",
      "\u001b[0;31mNameError\u001b[0m                                 Traceback (most recent call last)",
      "Cell \u001b[0;32mIn[5], line 1\u001b[0m\n\u001b[0;32m----> 1\u001b[0m \u001b[43mout_grad\u001b[49m\n",
      "\u001b[0;31mNameError\u001b[0m: name 'out_grad' is not defined"
     ]
    }
   ],
   "source": [
    "out_grad"
   ]
  },
  {
   "cell_type": "code",
   "execution_count": null,
   "id": "dd03a3fe",
   "metadata": {},
   "outputs": [
    {
     "data": {
      "text/plain": [
       "(2, 10, 3, 3)"
      ]
     },
     "execution_count": 6,
     "metadata": {},
     "output_type": "execute_result"
    }
   ],
   "source": [
    "out_grad.shape\n"
   ]
  },
  {
   "cell_type": "code",
   "execution_count": null,
   "id": "f7461e0c",
   "metadata": {},
   "outputs": [],
   "source": []
  }
 ],
 "metadata": {
  "kernelspec": {
   "display_name": "minitorch",
   "language": "python",
   "name": "python3"
  },
  "language_info": {
   "codemirror_mode": {
    "name": "ipython",
    "version": 3
   },
   "file_extension": ".py",
   "mimetype": "text/x-python",
   "name": "python",
   "nbconvert_exporter": "python",
   "pygments_lexer": "ipython3",
   "version": "3.9.18"
  }
 },
 "nbformat": 4,
 "nbformat_minor": 5
}
