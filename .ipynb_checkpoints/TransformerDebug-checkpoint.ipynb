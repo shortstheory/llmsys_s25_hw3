{
 "cells": [
  {
   "cell_type": "code",
   "execution_count": 1,
   "id": "91374114-4d3a-4ca2-a19f-de5a3fc6faca",
   "metadata": {},
   "outputs": [],
   "source": [
    "from functools import partial\n",
    "import time\n",
    "import os\n",
    "import fire\n",
    "import tqdm\n",
    "import json\n",
    "import random\n",
    "import datasets\n",
    "import numpy as np\n",
    "import argparse\n",
    "from distutils.util import strtobool\n",
    "\n",
    "from sacrebleu.metrics import BLEU\n",
    "from transformers import AutoTokenizer\n",
    "from tokenizers import ByteLevelBPETokenizer\n",
    "\n",
    "import minitorch\n",
    "from minitorch import DecoderLM\n",
    "from minitorch.cuda_kernel_ops import CudaKernelOps"
   ]
  },
  {
   "cell_type": "code",
   "execution_count": 21,
   "id": "aa3be8f0-d353-4f19-b624-223305fc3000",
   "metadata": {},
   "outputs": [
    {
     "name": "stderr",
     "output_type": "stream",
     "text": [
      "IOPub data rate exceeded.\n",
      "The Jupyter server will temporarily stop sending output\n",
      "to the client in order to avoid crashing it.\n",
      "To change this limit, set the config variable\n",
      "`--ServerApp.iopub_data_rate_limit`.\n",
      "\n",
      "Current values:\n",
      "ServerApp.iopub_data_rate_limit=1000000.0 (bytes/sec)\n",
      "ServerApp.rate_limit_window=3.0 (secs)\n",
      "\n"
     ]
    }
   ],
   "source": [
    "backend = minitorch.TensorBackend(CudaKernelOps)\n",
    "model_max_length=40\n",
    "batch_size=128\n",
    "learning_rate=0.02\n",
    "samples_per_epoch=20000\n",
    "n_vocab=10000\n",
    "n_embd=256\n",
    "\n",
    "config = {\n",
    "    'n_vocab'     : n_vocab,  # vocab_size\n",
    "    'n_embd'      : n_embd,   # n_embed\n",
    "    'n_head'      : 8,    # n_head\n",
    "    'n_positions' : model_max_length,  # n_ctx == n_positions\n",
    "    'p_dropout'   : 0.1,  # x_pdrop\n",
    "    'ln_eps'      : 1e-5, # layer_norm_epsilon\n",
    "    'backend'     : backend,\n",
    "    'use_fused_kernel': True\n",
    "}\n",
    "x = np.ones((1,model_max_length))\n",
    "\n",
    "x_tensor = minitorch.tensor_from_numpy(x, backend, True)\n",
    "\n",
    "model = DecoderLM(**config)\n",
    "res = model(x_tensor)\n"
   ]
  },
  {
   "cell_type": "code",
   "execution_count": 22,
   "id": "08e0af58-945d-4bf5-b309-7616d579f538",
   "metadata": {},
   "outputs": [
    {
     "name": "stderr",
     "output_type": "stream",
     "text": [
      "IOPub data rate exceeded.\n",
      "The Jupyter server will temporarily stop sending output\n",
      "to the client in order to avoid crashing it.\n",
      "To change this limit, set the config variable\n",
      "`--ServerApp.iopub_data_rate_limit`.\n",
      "\n",
      "Current values:\n",
      "ServerApp.iopub_data_rate_limit=1000000.0 (bytes/sec)\n",
      "ServerApp.rate_limit_window=3.0 (secs)\n",
      "\n"
     ]
    }
   ],
   "source": []
  },
  {
   "cell_type": "code",
   "execution_count": 27,
   "id": "27618491-2b29-4c25-a282-01d84f5c030f",
   "metadata": {},
   "outputs": [],
   "source": [
    "numpyres = res.to_numpy()"
   ]
  },
  {
   "cell_type": "code",
   "execution_count": 28,
   "id": "89c1faea-0bcd-40c6-97fc-8de8585a2cfb",
   "metadata": {},
   "outputs": [
    {
     "data": {
      "text/plain": [
       "array([ 0.9914105 ,  0.31126055,  0.17089958, ...,  0.95552635,\n",
       "       -0.8682031 , -0.6378009 ], dtype=float32)"
      ]
     },
     "execution_count": 28,
     "metadata": {},
     "output_type": "execute_result"
    }
   ],
   "source": [
    "numpyres[0,0]"
   ]
  },
  {
   "cell_type": "code",
   "execution_count": null,
   "id": "c3ccb581-bb0c-4053-b4bf-cac692864089",
   "metadata": {},
   "outputs": [],
   "source": []
  }
 ],
 "metadata": {
  "kernelspec": {
   "display_name": "Python 3 (ipykernel)",
   "language": "python",
   "name": "python3"
  },
  "language_info": {
   "codemirror_mode": {
    "name": "ipython",
    "version": 3
   },
   "file_extension": ".py",
   "mimetype": "text/x-python",
   "name": "python",
   "nbconvert_exporter": "python",
   "pygments_lexer": "ipython3",
   "version": "3.9.18"
  }
 },
 "nbformat": 4,
 "nbformat_minor": 5
}
