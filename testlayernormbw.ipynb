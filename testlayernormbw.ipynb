{
 "cells": [
  {
   "cell_type": "code",
   "execution_count": 11,
   "id": "0625f915",
   "metadata": {},
   "outputs": [],
   "source": [
    "# %%\n",
    "import minitorch\n",
    "from minitorch.cuda_kernel_ops import CudaKernelOps\n",
    "backend = minitorch.TensorBackend(CudaKernelOps)\n",
    "import time\n",
    "import numpy as np"
   ]
  },
  {
   "cell_type": "code",
   "execution_count": 12,
   "id": "3e86f835",
   "metadata": {},
   "outputs": [],
   "source": [
    "# %%\n",
    "rows = 10\n",
    "hidden_dim = 8\n",
    "\n",
    "def rand(shape):\n",
    "    return np.random.rand(*shape)\n",
    "\n",
    "inp = rand((rows, hidden_dim))\n",
    "out_grad = rand((rows,hidden_dim))\n",
    "gamma = rand((rows,1))\n",
    "beta = rand((rows,1))\n",
    "\n",
    "\n",
    "def custom():\n",
    "    inp_mt = minitorch.tensor_from_numpy(inp, backend=backend, requires_grad=True)\n",
    "    gamma_mt = minitorch.tensor_from_numpy(gamma, backend=backend, requires_grad=True)\n",
    "    beta_mt = minitorch.tensor_from_numpy(beta, backend=backend, requires_grad=True)\n",
    "    out_grad_mt = minitorch.tensor_from_numpy(out_grad, backend=backend, requires_grad=True)\n",
    "\n",
    "    out_mt = inp_mt.layernorm(gamma_mt, beta_mt)\n",
    "    out_mt.backward(out_grad_mt)\n",
    "\n",
    "    return inp_mt.grad, gamma_mt.grad, beta_mt.grad\n",
    "\n",
    "def baseline():\n",
    "    f_input = minitorch.tensor_from_numpy(inp, backend=backend, requires_grad=True)\n",
    "    f_gamma = minitorch.tensor_from_numpy(gamma, backend=backend, requires_grad=True)\n",
    "    f_out_grad = minitorch.tensor_from_numpy(out_grad, backend=backend, requires_grad=True)\n",
    "\n",
    "    f_means = f_input.mean(dim=1)\n",
    "    f_vars = f_input.var(dim=1)\n",
    "    f_stds = minitorch.tensor(np.sqrt(f_vars.to_numpy()).reshape(-1, 1).tolist(), backend=backend, requires_grad=True)\n",
    "\n",
    "    xhat = (f_input - f_means) / f_stds\n",
    "    dxhat = f_out_grad * f_gamma\n",
    "    f_betta_grad = f_out_grad.sum(dim=0)\n",
    "    f_gamma_grad = (f_out_grad * xhat).sum(dim=0)\n",
    "    dinp = dxhat.sum(dim=1) + xhat * (dxhat * xhat).sum(dim=1)\n",
    "    dinp = dxhat - dinp / hidden_dim\n",
    "    dinp = dinp / f_stds\n",
    "    return dinp, f_gamma_grad, f_betta_grad\n",
    "\n",
    "\n",
    "\n",
    "\n",
    "#     return res\n",
    "\n",
    "\n",
    "# %%\n",
    "\n",
    "\n",
    "# %%\n",
    "inp_grad_mt, gamma_mt, beta_mt = custom()\n",
    "dinp, f_gamma_grad, f_betta_grad = baseline()\n",
    "# print(c-b)\n"
   ]
  },
  {
   "cell_type": "code",
   "execution_count": 9,
   "id": "1e71c2e6",
   "metadata": {},
   "outputs": [
    {
     "data": {
      "text/plain": [
       "\n",
       "[\n",
       "\t[0.000000]\n",
       "\t[0.000000]\n",
       "\t[0.000000]\n",
       "\t[0.000000]\n",
       "\t[0.000000]\n",
       "\t[0.000000]\n",
       "\t[0.000000]\n",
       "\t[0.000000]\n",
       "\t[0.000000]\n",
       "\t[0.000000]]"
      ]
     },
     "execution_count": 9,
     "metadata": {},
     "output_type": "execute_result"
    }
   ],
   "source": [
    "beta_mt"
   ]
  },
  {
   "cell_type": "code",
   "execution_count": 10,
   "id": "6887b35c",
   "metadata": {},
   "outputs": [
    {
     "data": {
      "text/plain": [
       "\n",
       "[\n",
       "\t[4.624720 5.642360 2.948685 4.606026 4.836640 4.809541 3.099941 4.977721]]"
      ]
     },
     "execution_count": 10,
     "metadata": {},
     "output_type": "execute_result"
    }
   ],
   "source": [
    "f_betta_grad"
   ]
  },
  {
   "cell_type": "code",
   "execution_count": null,
   "id": "431278c6",
   "metadata": {},
   "outputs": [],
   "source": []
  }
 ],
 "metadata": {
  "kernelspec": {
   "display_name": "minitorch",
   "language": "python",
   "name": "python3"
  },
  "language_info": {
   "codemirror_mode": {
    "name": "ipython",
    "version": 3
   },
   "file_extension": ".py",
   "mimetype": "text/x-python",
   "name": "python",
   "nbconvert_exporter": "python",
   "pygments_lexer": "ipython3",
   "version": "3.9.18"
  }
 },
 "nbformat": 4,
 "nbformat_minor": 5
}
